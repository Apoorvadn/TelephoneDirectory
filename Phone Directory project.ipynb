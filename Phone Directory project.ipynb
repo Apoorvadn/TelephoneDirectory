{
 "cells": [
  {
   "cell_type": "code",
   "execution_count": 31,
   "id": "a57fd65f",
   "metadata": {},
   "outputs": [
    {
     "name": "stdout",
     "output_type": "stream",
     "text": [
      "Defaulting to user installation because normal site-packages is not writeable\n",
      "Requirement already satisfied: pymongo in c:\\users\\kikenan\\appdata\\roaming\\python\\python39\\site-packages (4.2.0)\n"
     ]
    }
   ],
   "source": [
    "!pip install pymongo"
   ]
  },
  {
   "cell_type": "code",
   "execution_count": 32,
   "id": "ab3768d2",
   "metadata": {},
   "outputs": [],
   "source": [
    "import pymongo\n",
    "from ipywidgets import Layout, Box, Dropdown, Label\n",
    "import ipywidgets as widgets\n",
    "import pandas as pd"
   ]
  },
  {
   "cell_type": "code",
   "execution_count": 33,
   "id": "1289eb9d",
   "metadata": {},
   "outputs": [
    {
     "name": "stdout",
     "output_type": "stream",
     "text": [
      "<pymongo.results.InsertManyResult object at 0x000001BF00DF4DC0>\n",
      "{'Name': 'Apoorva', 'Number': 123456789}\n",
      "{'Name': 'Kiran', 'Number': 234567891}\n",
      "{'Name': 'Nanditha', 'Number': 345678912}\n",
      "{'Name': 'Keerthi', 'Number': 456789123}\n"
     ]
    }
   ],
   "source": [
    "client = pymongo.MongoClient(\"mongodb://127.0.0.1:27017/\")\n",
    "mydb = client[\"PhoneBook\"]\n",
    "mycol = mydb[\"contacts\"]\n",
    "\n",
    "data = [{\"Name\": \"Apoorva\", \"Number\": 123456789, \"mail_id\": \"abc@gamil.com\"},\n",
    "        {\"Name\": \"Kiran\", \"Number\": 234567891, \"mail_id\": \"cde@gamil.com\"},\n",
    "        {\"Name\": \"Nanditha\", \"Number\": 345678912, \"mail_id\": \"efg@gamil.com\"},\n",
    "        {\"Name\": \"Keerthi\", \"Number\": 456789123, \"mail_id\": \"ghj@gamil.com\"}]\n",
    "\n",
    "#inserting the contacts\n",
    "\n",
    "mycol.drop()\n",
    "\n",
    "inst = mycol.insert_many(data)\n",
    "print(inst)\n",
    "\n",
    "#search contact by name or number\n",
    "\n",
    "for x in mycol.find({},{ \"_id\": 0, \"Name\": 1, \"Number\": 1 }):\n",
    "  print(x)\n",
    "\n"
   ]
  },
  {
   "cell_type": "code",
   "execution_count": 34,
   "id": "a153712a",
   "metadata": {},
   "outputs": [
    {
     "data": {
      "application/vnd.jupyter.widget-view+json": {
       "model_id": "cd394d3566134809a2cb43dbccc47eb4",
       "version_major": 2,
       "version_minor": 0
      },
      "text/plain": [
       "Combobox(value='', description='Search:', ensure_option=True, options=('Name', 'Number'), placeholder='Choose …"
      ]
     },
     "metadata": {},
     "output_type": "display_data"
    }
   ],
   "source": [
    "opt = widgets.Combobox(\n",
    "    placeholder='Choose Someone',\n",
    "    options=['Name', 'Number'],\n",
    "    description='Search:',\n",
    "    ensure_option=True,\n",
    "    disabled=False\n",
    ")\n",
    "\n",
    "opt"
   ]
  },
  {
   "cell_type": "code",
   "execution_count": 35,
   "id": "4d9c2ed9",
   "metadata": {},
   "outputs": [
    {
     "data": {
      "application/vnd.jupyter.widget-view+json": {
       "model_id": "39c0a41709674749904467b349dd1217",
       "version_major": 2,
       "version_minor": 0
      },
      "text/plain": [
       "Text(value='', description='Name Or Number:', placeholder='Type something')"
      ]
     },
     "metadata": {},
     "output_type": "display_data"
    }
   ],
   "source": [
    "val = widgets.Text(\n",
    "    value='',\n",
    "    placeholder='Type something',\n",
    "    description='Name Or Number:',\n",
    "    disabled=False\n",
    ")\n",
    "\n",
    "val"
   ]
  },
  {
   "cell_type": "code",
   "execution_count": 40,
   "id": "97352d98",
   "metadata": {},
   "outputs": [
    {
     "data": {
      "application/vnd.jupyter.widget-view+json": {
       "model_id": "d7676ad34e1349909cbb9eff4ce7529d",
       "version_major": 2,
       "version_minor": 0
      },
      "text/plain": [
       "Text(value='', description='Name Or Number:', placeholder='Type something')"
      ]
     },
     "metadata": {},
     "output_type": "display_data"
    }
   ],
   "source": [
    "dele = widgets.Text(\n",
    "    value='',\n",
    "    placeholder='Type something',\n",
    "    description='Name Or Number:',\n",
    "    disabled=False\n",
    ")\n",
    "\n",
    "dele"
   ]
  },
  {
   "cell_type": "code",
   "execution_count": 41,
   "id": "f9c017d4",
   "metadata": {},
   "outputs": [
    {
     "data": {
      "text/plain": [
       "''"
      ]
     },
     "execution_count": 41,
     "metadata": {},
     "output_type": "execute_result"
    }
   ],
   "source": [
    "opt.value\n",
    "val.value\n",
    "dele.value"
   ]
  },
  {
   "cell_type": "code",
   "execution_count": 42,
   "id": "c8061bb1",
   "metadata": {},
   "outputs": [
    {
     "name": "stdout",
     "output_type": "stream",
     "text": [
      "0  documents deleted.\n"
     ]
    }
   ],
   "source": [
    "if opt.value == 'Name':    \n",
    "    myquery = { \"Name\": val.value }\n",
    "elif opt.value == 'Number':\n",
    "    myquery = { \"Number\": int(val.value) }\n",
    "    \n",
    "for x in mycol.find(myquery):\n",
    "      print(x)\n",
    "\n",
    "x = mycol.delete_one(myquery)\n",
    "\n",
    "print(x.deleted_count, \" documents deleted.\")\n"
   ]
  },
  {
   "cell_type": "code",
   "execution_count": 43,
   "id": "21270c5b",
   "metadata": {},
   "outputs": [
    {
     "data": {
      "text/html": [
       "<div>\n",
       "<style scoped>\n",
       "    .dataframe tbody tr th:only-of-type {\n",
       "        vertical-align: middle;\n",
       "    }\n",
       "\n",
       "    .dataframe tbody tr th {\n",
       "        vertical-align: top;\n",
       "    }\n",
       "\n",
       "    .dataframe thead th {\n",
       "        text-align: right;\n",
       "    }\n",
       "</style>\n",
       "<table border=\"1\" class=\"dataframe\">\n",
       "  <thead>\n",
       "    <tr style=\"text-align: right;\">\n",
       "      <th></th>\n",
       "      <th>Name</th>\n",
       "      <th>Number</th>\n",
       "      <th>mail_id</th>\n",
       "    </tr>\n",
       "  </thead>\n",
       "  <tbody>\n",
       "    <tr>\n",
       "      <th>0</th>\n",
       "      <td>Kiran</td>\n",
       "      <td>234567891</td>\n",
       "      <td>cde@gamil.com</td>\n",
       "    </tr>\n",
       "    <tr>\n",
       "      <th>1</th>\n",
       "      <td>Nanditha</td>\n",
       "      <td>345678912</td>\n",
       "      <td>efg@gamil.com</td>\n",
       "    </tr>\n",
       "    <tr>\n",
       "      <th>2</th>\n",
       "      <td>Keerthi</td>\n",
       "      <td>456789123</td>\n",
       "      <td>ghj@gamil.com</td>\n",
       "    </tr>\n",
       "  </tbody>\n",
       "</table>\n",
       "</div>"
      ],
      "text/plain": [
       "       Name     Number        mail_id\n",
       "0     Kiran  234567891  cde@gamil.com\n",
       "1  Nanditha  345678912  efg@gamil.com\n",
       "2   Keerthi  456789123  ghj@gamil.com"
      ]
     },
     "execution_count": 43,
     "metadata": {},
     "output_type": "execute_result"
    }
   ],
   "source": [
    "myList = mycol.find({}, {'_id': 0, 'Name': 1, 'Number': 1, 'mail_id': 1})\n",
    "myList = pd.DataFrame(myList)\n",
    "\n",
    "myList"
   ]
  },
  {
   "cell_type": "code",
   "execution_count": null,
   "id": "acb09426",
   "metadata": {},
   "outputs": [],
   "source": []
  }
 ],
 "metadata": {
  "kernelspec": {
   "display_name": "Python 3 (ipykernel)",
   "language": "python",
   "name": "python3"
  },
  "language_info": {
   "codemirror_mode": {
    "name": "ipython",
    "version": 3
   },
   "file_extension": ".py",
   "mimetype": "text/x-python",
   "name": "python",
   "nbconvert_exporter": "python",
   "pygments_lexer": "ipython3",
   "version": "3.9.12"
  }
 },
 "nbformat": 4,
 "nbformat_minor": 5
}
